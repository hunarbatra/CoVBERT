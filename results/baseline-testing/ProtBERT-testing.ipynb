{
  "cells": [
    {
      "cell_type": "code",
      "execution_count": null,
      "metadata": {
        "id": "NcQRRv_UVQYh"
      },
      "outputs": [],
      "source": [
        "from transformers import pipeline\n",
        "\n",
        "mask_filler = pipeline(\n",
        "    \"fill-mask\", \n",
        "    model=\"Rostlab/prot_bert\",\n",
        "    tokenizer=\"Rostlab/prot_bert\"\n",
        ")"
      ]
    },
    {
      "cell_type": "code",
      "execution_count": null,
      "metadata": {
        "colab": {
          "base_uri": "https://localhost:8080/"
        },
        "id": "P4XFOlW7aM5r",
        "outputId": "5acafbf4-6e44-401e-bce1-e26c166f65dd"
      },
      "outputs": [
        {
          "data": {
            "text/plain": [
              "[{'score': 0.9997259974479675, 'token': 25, 'token_str': 'X', 'sequence': 'X'},\n",
              " {'score': 4.359659942565486e-05,\n",
              "  'token': 13,\n",
              "  'token_str': 'R',\n",
              "  'sequence': 'R'},\n",
              " {'score': 4.001598426839337e-05,\n",
              "  'token': 5,\n",
              "  'token_str': 'L',\n",
              "  'sequence': 'L'},\n",
              " {'score': 2.6597530450089835e-05,\n",
              "  'token': 18,\n",
              "  'token_str': 'Q',\n",
              "  'sequence': 'Q'},\n",
              " {'score': 2.3989094188436866e-05,\n",
              "  'token': 10,\n",
              "  'token_str': 'S',\n",
              "  'sequence': 'S'}]"
            ]
          },
          "execution_count": 10,
          "metadata": {},
          "output_type": "execute_result"
        }
      ],
      "source": [
        "mask_filler(\"MAT[MASK]ALM\")"
      ]
    },
    {
      "cell_type": "markdown",
      "metadata": {
        "id": "AJ_VV51RanB4"
      },
      "source": [
        "# Variant Mutation Processing"
      ]
    },
    {
      "cell_type": "code",
      "execution_count": null,
      "metadata": {
        "id": "nNqkGXJoaqOw"
      },
      "outputs": [],
      "source": [
        "import pandas as pd\n",
        "import math\n",
        "from statistics import mean"
      ]
    },
    {
      "cell_type": "code",
      "execution_count": null,
      "metadata": {
        "id": "cvtqgUW1cpMu"
      },
      "outputs": [],
      "source": [
        "def isNaN(num):\n",
        "    return num != num"
      ]
    },
    {
      "cell_type": "code",
      "execution_count": null,
      "metadata": {
        "id": "1LVD57enc2ZO"
      },
      "outputs": [],
      "source": [
        "mutations = ['D614G', 'D950N', 'E484K', 'H655Y', 'H655Y', 'K417N', 'N501Y', 'P681H', 'Q493R']"
      ]
    },
    {
      "cell_type": "markdown",
      "metadata": {
        "id": "8yK3_J7eYZMo"
      },
      "source": [
        "# Common Variant Mutations Masking Testing"
      ]
    },
    {
      "cell_type": "code",
      "execution_count": null,
      "metadata": {
        "id": "FxtppP7LXihC"
      },
      "outputs": [],
      "source": [
        "mutations_seqs = {}\n",
        "[mutations_seqs.setdefault(name, []) for name in mutations]\n",
        "\n",
        "mutations_seqs_results = {}\n",
        "[mutations_seqs_results.setdefault(name, []) for name in mutations]\n",
        "\n",
        "mutations_seqs_original = {}\n",
        "[mutations_seqs_original.setdefault(name, []) for name in mutations]"
      ]
    },
    {
      "cell_type": "code",
      "execution_count": null,
      "metadata": {
        "id": "YNr5J6cGd9v8"
      },
      "outputs": [],
      "source": [
        "line_count = 0\n",
        "\n",
        "with open('validation-set.txt', 'r') as file:\n",
        "    for line in file:\n",
        "        line_count += 1\n",
        "        print(line_count)\n",
        "        for mutation in mutations:\n",
        "            original = mutation[0]\n",
        "            change = mutation[-1]\n",
        "            position = int(\"\".join(mutation[1:-1]))-1\n",
        "\n",
        "            if position < len(line) and line[position] == original:\n",
        "                mutations_seqs[mutation].append(line)\n",
        "                sequence = line[:position] + '[MASK]' + line[position+1:]\n",
        "                curr_results = mask_filler(sequence)\n",
        "\n",
        "                curr_sequence_pred = 0\n",
        "                curr_sequence_nochange = 0\n",
        "\n",
        "                for i in range(0, len(curr_results)):\n",
        "                    if curr_results[i]['token_str'] == change:\n",
        "                        curr_sequence_pred = curr_results[i]['score']\n",
        "                    elif curr_results[i]['token_str'] == original:\n",
        "                        curr_sequence_nochange = curr_results[i]['score']\n",
        "                    if curr_sequence_pred > 0 and curr_sequence_nochange > 0:\n",
        "                        break\n",
        "                    \n",
        "                mutations_seqs_results[mutation].append(curr_sequence_pred)\n",
        "                mutations_seqs_original[mutation].append(curr_sequence_nochange)"
      ]
    },
    {
      "cell_type": "code",
      "execution_count": null,
      "metadata": {
        "id": "06S705Vio4Cd"
      },
      "outputs": [],
      "source": [
        "mutations_seqs_results_mean = {}\n",
        "[mutations_seqs_results_mean.setdefault(name, 0) for name in mutations]\n",
        "\n",
        "mutations_seqs_original_mean = {}\n",
        "[mutations_seqs_original_mean.setdefault(name, 0) for name in mutations]\n",
        "\n",
        "for mutation in mutations_seqs_original:\n",
        "    curr_list = mutations_seqs_original[mutation]\n",
        "    mutations_seqs_original_mean[mutation] = round(mean(curr_list), 2)\n",
        "\n",
        "for mutation in mutations_seqs_results:\n",
        "    curr_list = mutations_seqs_results[mutation]\n",
        "    mutations_seqs_results_mean[mutation] = round(mean(curr_list), 2)"
      ]
    },
    {
      "cell_type": "code",
      "execution_count": null,
      "metadata": {
        "colab": {
          "base_uri": "https://localhost:8080/"
        },
        "id": "SRwkUjj-nsc-",
        "outputId": "404925ec-a61e-4864-825c-d7a1221900ce"
      },
      "outputs": [
        {
          "data": {
            "text/plain": [
              "{'D614G': 0,\n",
              " 'D950N': 0,\n",
              " 'E484K': 0,\n",
              " 'H655Y': 0,\n",
              " 'K417N': 0,\n",
              " 'N501Y': 0,\n",
              " 'P681H': 0,\n",
              " 'Q493R': 0.0}"
            ]
          },
          "execution_count": 17,
          "metadata": {},
          "output_type": "execute_result"
        }
      ],
      "source": [
        "mutations_seqs_results_mean"
      ]
    },
    {
      "cell_type": "code",
      "execution_count": null,
      "metadata": {
        "colab": {
          "base_uri": "https://localhost:8080/"
        },
        "id": "r8YArtTDpe-P",
        "outputId": "191532d1-2d38-426c-b416-6dd2e2621d9f"
      },
      "outputs": [
        {
          "data": {
            "text/plain": [
              "{'D614G': 0,\n",
              " 'D950N': 0,\n",
              " 'E484K': 0,\n",
              " 'H655Y': 0,\n",
              " 'K417N': 0,\n",
              " 'N501Y': 0,\n",
              " 'P681H': 0,\n",
              " 'Q493R': 0.0}"
            ]
          },
          "execution_count": 18,
          "metadata": {},
          "output_type": "execute_result"
        }
      ],
      "source": [
        "mutations_seqs_original_mean"
      ]
    },
    {
      "cell_type": "code",
      "execution_count": null,
      "metadata": {
        "colab": {
          "base_uri": "https://localhost:8080/"
        },
        "id": "S0Qu9F8lphmD",
        "outputId": "2c33ed16-53ba-4d89-ee89-c9aa2ce31036"
      },
      "outputs": [
        {
          "name": "stdout",
          "output_type": "stream",
          "text": [
            "68\n",
            "2063\n",
            "1799\n",
            "3776\n",
            "2012\n",
            "1878\n",
            "1708\n",
            "2171\n"
          ]
        }
      ],
      "source": [
        "for mutation in mutations_seqs_results:\n",
        "    print(len(mutations_seqs_results[mutation]))"
      ]
    }
  ],
  "metadata": {
    "accelerator": "GPU",
    "colab": {
      "machine_shape": "hm",
      "provenance": []
    },
    "gpuClass": "standard",
    "kernelspec": {
      "display_name": "Python 3",
      "name": "python3"
    },
    "language_info": {
      "name": "python"
    }
  },
  "nbformat": 4,
  "nbformat_minor": 0
}

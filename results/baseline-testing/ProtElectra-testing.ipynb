{
  "cells": [
    {
      "cell_type": "code",
      "execution_count": null,
      "metadata": {
        "id": "NcQRRv_UVQYh"
      },
      "outputs": [],
      "source": [
        "from transformers import pipeline\n",
        "\n",
        "mask_filler = pipeline(\n",
        "    \"fill-mask\", \n",
        "    model=\"Rostlab/prot_electra_generator_bfd\",\n",
        "    tokenizer=\"Rostlab/prot_electra_generator_bfd\"\n",
        ")"
      ]
    },
    {
      "cell_type": "markdown",
      "metadata": {},
      "source": []
    },
    {
      "cell_type": "code",
      "execution_count": null,
      "metadata": {
        "colab": {
          "base_uri": "https://localhost:8080/"
        },
        "id": "P4XFOlW7aM5r",
        "outputId": "d7826035-c621-4b5d-b597-61d98629e659"
      },
      "outputs": [
        {
          "data": {
            "text/plain": [
              "[{'score': 0.34794163703918457,\n",
              "  'token': 23,\n",
              "  'token_str': 'C',\n",
              "  'sequence': 'C'},\n",
              " {'score': 0.16164058446884155,\n",
              "  'token': 10,\n",
              "  'token_str': 'S',\n",
              "  'sequence': 'S'},\n",
              " {'score': 0.06785508245229721, 'token': 5, 'token_str': 'L', 'sequence': 'L'},\n",
              " {'score': 0.06539598107337952,\n",
              "  'token': 13,\n",
              "  'token_str': 'R',\n",
              "  'sequence': 'R'},\n",
              " {'score': 0.052951961755752563,\n",
              "  'token': 7,\n",
              "  'token_str': 'G',\n",
              "  'sequence': 'G'}]"
            ]
          },
          "execution_count": 11,
          "metadata": {},
          "output_type": "execute_result"
        }
      ],
      "source": [
        "mask_filler(\"MAT[MASK]ALM\")"
      ]
    },
    {
      "cell_type": "markdown",
      "metadata": {
        "id": "AJ_VV51RanB4"
      },
      "source": [
        "# Variant Mutation Processing"
      ]
    },
    {
      "cell_type": "code",
      "execution_count": null,
      "metadata": {
        "id": "nNqkGXJoaqOw"
      },
      "outputs": [],
      "source": [
        "import pandas as pd\n",
        "import math\n",
        "from statistics import mean"
      ]
    },
    {
      "cell_type": "code",
      "execution_count": null,
      "metadata": {
        "id": "cvtqgUW1cpMu"
      },
      "outputs": [],
      "source": [
        "def isNaN(num):\n",
        "    return num != num"
      ]
    },
    {
      "cell_type": "code",
      "execution_count": null,
      "metadata": {
        "id": "1LVD57enc2ZO"
      },
      "outputs": [],
      "source": [
        "mutations = ['D614G', 'D950N', 'E484K', 'H655Y', 'H655Y', 'K417N', 'N501Y', 'P681H', 'Q493R']"
      ]
    },
    {
      "cell_type": "markdown",
      "metadata": {
        "id": "8yK3_J7eYZMo"
      },
      "source": [
        "# Common Variant Mutations Masking Testing"
      ]
    },
    {
      "cell_type": "code",
      "execution_count": null,
      "metadata": {
        "colab": {
          "base_uri": "https://localhost:8080/"
        },
        "id": "FxtppP7LXihC",
        "outputId": "6e3d8093-ff31-4351-826d-f93efbf0d9ad"
      },
      "outputs": [
        {
          "data": {
            "text/plain": [
              "[[], [], [], [], [], [], [], [], []]"
            ]
          },
          "execution_count": 15,
          "metadata": {},
          "output_type": "execute_result"
        }
      ],
      "source": [
        "mutations_seqs = {}\n",
        "[mutations_seqs.setdefault(name, []) for name in mutations]\n",
        "\n",
        "mutations_seqs_results = {}\n",
        "[mutations_seqs_results.setdefault(name, []) for name in mutations]\n",
        "\n",
        "mutations_seqs_original = {}\n",
        "[mutations_seqs_original.setdefault(name, []) for name in mutations]"
      ]
    },
    {
      "cell_type": "code",
      "execution_count": null,
      "metadata": {
        "colab": {
          "base_uri": "https://localhost:8080/"
        },
        "id": "YNr5J6cGd9v8",
        "outputId": "5a3a8bab-b8a2-464c-bf95-507cd222406c"
      },
      "outputs": [],
      "source": [
        "line_count = 0\n",
        "\n",
        "with open('validation-set.txt', 'r') as file:\n",
        "    for line in file:\n",
        "        line_count += 1\n",
        "        print(line_count)\n",
        "        for mutation in mutations:\n",
        "            original = mutation[0]\n",
        "            change = mutation[-1]\n",
        "            position = int(\"\".join(mutation[1:-1]))-1\n",
        "\n",
        "            if position < len(line) and line[position] == original:\n",
        "                mutations_seqs[mutation].append(line)\n",
        "                sequence = line[:position] + '[MASK]' + line[position+1:]\n",
        "                curr_results = mask_filler(sequence)\n",
        "\n",
        "                curr_sequence_pred = 0\n",
        "                curr_sequence_nochange = 0\n",
        "\n",
        "                for i in range(0, len(curr_results)):\n",
        "                    if curr_results[i]['token_str'] == change:\n",
        "                        curr_sequence_pred = curr_results[i]['score']\n",
        "                    elif curr_results[i]['token_str'] == original:\n",
        "                        curr_sequence_nochange = curr_results[i]['score']\n",
        "                    if curr_sequence_pred > 0 and curr_sequence_nochange > 0:\n",
        "                        break\n",
        "                    \n",
        "                mutations_seqs_results[mutation].append(curr_sequence_pred)\n",
        "                mutations_seqs_original[mutation].append(curr_sequence_nochange)"
      ]
    },
    {
      "cell_type": "code",
      "execution_count": null,
      "metadata": {
        "id": "06S705Vio4Cd"
      },
      "outputs": [],
      "source": [
        "mutations_seqs_results_mean = {}\n",
        "[mutations_seqs_results_mean.setdefault(name, 0) for name in mutations]\n",
        "\n",
        "mutations_seqs_original_mean = {}\n",
        "[mutations_seqs_original_mean.setdefault(name, 0) for name in mutations]\n",
        "\n",
        "for mutation in mutations_seqs_original:\n",
        "    curr_list = mutations_seqs_original[mutation]\n",
        "    mutations_seqs_original_mean[mutation] = round(mean(curr_list), 2)\n",
        "\n",
        "for mutation in mutations_seqs_results:\n",
        "    curr_list = mutations_seqs_results[mutation]\n",
        "    mutations_seqs_results_mean[mutation] = round(mean(curr_list), 2)"
      ]
    },
    {
      "cell_type": "code",
      "execution_count": null,
      "metadata": {
        "colab": {
          "base_uri": "https://localhost:8080/"
        },
        "id": "SRwkUjj-nsc-",
        "outputId": "892e19d1-9986-4d04-808c-78f3329a800a"
      },
      "outputs": [
        {
          "data": {
            "text/plain": [
              "{'D614G': 0.09,\n",
              " 'D950N': 0,\n",
              " 'E484K': 0,\n",
              " 'H655Y': 0,\n",
              " 'K417N': 0,\n",
              " 'N501Y': 0,\n",
              " 'P681H': 0,\n",
              " 'Q493R': 0.08}"
            ]
          },
          "execution_count": 18,
          "metadata": {},
          "output_type": "execute_result"
        }
      ],
      "source": [
        "mutations_seqs_results_mean"
      ]
    },
    {
      "cell_type": "code",
      "execution_count": null,
      "metadata": {
        "colab": {
          "base_uri": "https://localhost:8080/"
        },
        "id": "r8YArtTDpe-P",
        "outputId": "6d30ef16-d2ba-4237-810d-0c0e4a14fda2"
      },
      "outputs": [
        {
          "data": {
            "text/plain": [
              "{'D614G': 0,\n",
              " 'D950N': 0,\n",
              " 'E484K': 0,\n",
              " 'H655Y': 0,\n",
              " 'K417N': 0,\n",
              " 'N501Y': 0,\n",
              " 'P681H': 0,\n",
              " 'Q493R': 0}"
            ]
          },
          "execution_count": 19,
          "metadata": {},
          "output_type": "execute_result"
        }
      ],
      "source": [
        "mutations_seqs_original_mean"
      ]
    },
    {
      "cell_type": "code",
      "execution_count": null,
      "metadata": {
        "colab": {
          "base_uri": "https://localhost:8080/"
        },
        "id": "S0Qu9F8lphmD",
        "outputId": "3402fdf4-7141-4344-e65e-825a64eb1454"
      },
      "outputs": [
        {
          "name": "stdout",
          "output_type": "stream",
          "text": [
            "68\n",
            "2063\n",
            "1799\n",
            "3776\n",
            "2012\n",
            "1878\n",
            "1708\n",
            "2171\n"
          ]
        }
      ],
      "source": [
        "for mutation in mutations_seqs_results:\n",
        "    print(len(mutations_seqs_results[mutation]))"
      ]
    },
    {
      "cell_type": "code",
      "execution_count": null,
      "metadata": {
        "colab": {
          "base_uri": "https://localhost:8080/"
        },
        "id": "Z6g40miixDf9",
        "outputId": "8f94ff70-9bf0-44a3-ac9d-1d58c6700b55"
      },
      "outputs": [
        {
          "name": "stdout",
          "output_type": "stream",
          "text": [
            "D614G : 0.09357799589633942\n",
            "D950N : 0\n",
            "E484K : 0\n",
            "H655Y : 0\n",
            "K417N : 0\n",
            "N501Y : 0\n",
            "P681H : 0\n",
            "Q493R : 0.07783561199903488\n"
          ]
        }
      ],
      "source": [
        "for mutation in mutations_seqs_results:\n",
        "    print(mutation + ' : ' + str(max(mutations_seqs_results[mutation])))"
      ]
    }
  ],
  "metadata": {
    "accelerator": "TPU",
    "colab": {
      "collapsed_sections": [],
      "provenance": []
    },
    "gpuClass": "standard",
    "kernelspec": {
      "display_name": "Python 3",
      "name": "python3"
    },
    "language_info": {
      "name": "python"
    }
  },
  "nbformat": 4,
  "nbformat_minor": 0
}
